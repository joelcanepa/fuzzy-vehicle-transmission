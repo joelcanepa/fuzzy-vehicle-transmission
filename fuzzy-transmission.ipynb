{
 "cells": [
  {
   "cell_type": "code",
   "execution_count": 4,
   "metadata": {},
   "outputs": [
    {
     "data": {
      "application/vnd.jupyter.widget-view+json": {
       "model_id": "439e3195553c43b0b16b2d305808af81",
       "version_major": 2,
       "version_minor": 0
      },
      "text/plain": [
       "IntSlider(value=0, description='Velocidad:')"
      ]
     },
     "metadata": {},
     "output_type": "display_data"
    },
    {
     "data": {
      "application/vnd.jupyter.widget-view+json": {
       "model_id": "3f6bdd7e291b4377ab2ecba06508198b",
       "version_major": 2,
       "version_minor": 0
      },
      "text/plain": [
       "IntSlider(value=1500, description='RPM:', max=7000)"
      ]
     },
     "metadata": {},
     "output_type": "display_data"
    },
    {
     "data": {
      "application/vnd.jupyter.widget-view+json": {
       "model_id": "61dd576520db4ac18fbcc098cd4b78ff",
       "version_major": 2,
       "version_minor": 0
      },
      "text/plain": [
       "IntSlider(value=0, description='Pendiente:')"
      ]
     },
     "metadata": {},
     "output_type": "display_data"
    },
    {
     "data": {
      "application/vnd.jupyter.widget-view+json": {
       "model_id": "87e7466df0d04dbf9fa136860e6e7154",
       "version_major": 2,
       "version_minor": 0
      },
      "text/plain": [
       "IntSlider(value=0, description='Carga:')"
      ]
     },
     "metadata": {},
     "output_type": "display_data"
    },
    {
     "data": {
      "application/vnd.jupyter.widget-view+json": {
       "model_id": "cc6a2523bba143c5b03ca6496e60ce8d",
       "version_major": 2,
       "version_minor": 0
      },
      "text/plain": [
       "Label(value='Marcha seleccionada: 1 (Crisp: 15.56)')"
      ]
     },
     "metadata": {},
     "output_type": "display_data"
    }
   ],
   "source": [
    "import numpy as np\n",
    "import skfuzzy as fuzz\n",
    "from skfuzzy import control as ctrl\n",
    "import ipywidgets as widgets\n",
    "from IPython.display import display\n",
    "\n",
    "# 1. Definir las variables de entrada y salida\n",
    "velocidad = ctrl.Antecedent(np.arange(0, 101, 1), 'velocidad')  # km/h\n",
    "rpm = ctrl.Antecedent(np.arange(0, 7001, 1), 'rpm')  # rpm\n",
    "pendiente = ctrl.Antecedent(np.arange(0, 101, 1), 'pendiente')  # % de inclinación (100% = 45°)\n",
    "carga = ctrl.Antecedent(np.arange(0, 101, 1), 'carga')\n",
    "\n",
    "# La salida sera el valor crisp de la marcha\n",
    "marcha = ctrl.Consequent(np.arange(0, 101, 1), 'marcha')\n",
    "\n",
    "# 2. Definir los conjuntos difusos\n",
    "velocidad['baja'] = fuzz.trimf(velocidad.universe, [0, 0, 40])\n",
    "velocidad['media'] = fuzz.trimf(velocidad.universe, [20, 50, 80])\n",
    "velocidad['alta'] = fuzz.trimf(velocidad.universe, [60, 100, 100])  \n",
    "\n",
    "rpm['bajas'] = fuzz.trimf(rpm.universe, [0, 0, 3000])\n",
    "rpm['medias'] = fuzz.trimf(rpm.universe, [2000, 4000, 6000])\n",
    "rpm['altas'] = fuzz.trimf(rpm.universe, [5000, 7000, 7000])\n",
    "\n",
    "pendiente['llano'] = fuzz.trimf(pendiente.universe, [0, 0, 40])\n",
    "pendiente['moderado'] = fuzz.trimf(pendiente.universe, [20, 50, 80])\n",
    "pendiente['empinado'] = fuzz.trimf(pendiente.universe, [60, 100, 100])\n",
    "\n",
    "carga['ligera'] = fuzz.trimf(carga.universe, [0, 0, 40])\n",
    "carga['media'] = fuzz.trimf(carga.universe, [20, 50, 80])\n",
    "carga['pesada'] = fuzz.trimf(carga.universe, [60, 100, 100])\n",
    "\n",
    "marcha['baja'] = fuzz.trimf(marcha.universe, [0, 0, 40])\n",
    "marcha['media'] = fuzz.trimf(marcha.universe, [20, 50, 80])\n",
    "marcha['alta'] = fuzz.trimf(marcha.universe, [60, 100, 100])\n",
    "\n",
    "# 3. Definir las reglas difusas\n",
    "reglas = [\n",
    "    ctrl.Rule(velocidad['baja'] & rpm['bajas'], marcha['baja']),\n",
    "    ctrl.Rule(velocidad['baja'] & rpm['medias'], marcha['media']),\n",
    "    ctrl.Rule(velocidad['baja'] & rpm['altas'], marcha['media']),\n",
    "    ctrl.Rule(velocidad['media'] & rpm['bajas'], marcha['media']),\n",
    "    ctrl.Rule(velocidad['media'] & rpm['medias'], marcha['media']),\n",
    "    ctrl.Rule(velocidad['media'] & rpm['altas'], marcha['alta']),\n",
    "    ctrl.Rule(velocidad['alta'] & rpm['bajas'], marcha['media']),\n",
    "    ctrl.Rule(velocidad['alta'] & rpm['medias'], marcha['alta']),\n",
    "    ctrl.Rule(velocidad['alta'] & rpm['altas'], marcha['alta']),\n",
    "    ctrl.Rule(pendiente['empinado'], marcha['baja']),\n",
    "    ctrl.Rule(pendiente['moderado'] & carga['pesada'], marcha['baja']),\n",
    "    ctrl.Rule(pendiente['moderado'] & carga['media'], marcha['baja']),\n",
    "]\n",
    "\n",
    "# 4. Crear el sistema de control difuso\n",
    "sistema_control = ctrl.ControlSystem(reglas)\n",
    "simulacion = ctrl.ControlSystemSimulation(sistema_control)\n",
    "\n",
    "# 5. Función para actualizar el valor de la marcha y mostrarlo\n",
    "def actualizar_simulacion(vel, rpm_value, pendiente_value, carga_value):\n",
    "    simulacion.input['velocidad'] = vel\n",
    "    simulacion.input['rpm'] = rpm_value\n",
    "    simulacion.input['pendiente'] = pendiente_value\n",
    "    simulacion.input['carga'] = carga_value\n",
    "    \n",
    "    simulacion.compute()\n",
    "\n",
    "    marcha_crisp = simulacion.output['marcha']\n",
    "\n",
    "    # Determinar la marcha a partir del valor crisp\n",
    "    if marcha_crisp < 17:\n",
    "        marcha_value = 1\n",
    "    elif 17 <= marcha_crisp < 34:\n",
    "        marcha_value = 2\n",
    "    elif 34 <= marcha_crisp < 49:\n",
    "        marcha_value = 3\n",
    "    elif 49 <= marcha_crisp < 65:\n",
    "        marcha_value = 4\n",
    "    elif 65 <= marcha_crisp < 82:\n",
    "        marcha_value = 5\n",
    "    else:\n",
    "        marcha_value = 6\n",
    "\n",
    "    marcha_label.value = f\"Marcha seleccionada: {marcha_value} (Crisp: {marcha_crisp:.2f})\"\n",
    "\n",
    "# 6. Crear los widgets\n",
    "vel_slider = widgets.IntSlider(value=0, min=0, max=100, step=1, description='Velocidad:')\n",
    "rpm_slider = widgets.IntSlider(value=1500, min=0, max=7000, step=1, description='RPM:')\n",
    "pendiente_slider = widgets.IntSlider(value=0, min=0, max=100, step=1, description='Pendiente:')\n",
    "carga_slider = widgets.IntSlider(value=0, min=0, max=100, step=1, description='Carga:')\n",
    "\n",
    "marcha_label = widgets.Label(value=\"Marcha seleccionada: 1\")\n",
    "\n",
    "# 7. Enlazar los widgets a la función de actualización\n",
    "widgets.interactive(actualizar_simulacion, \n",
    "                    vel=vel_slider, \n",
    "                    rpm_value=rpm_slider, \n",
    "                    pendiente_value=pendiente_slider, \n",
    "                    carga_value=carga_slider)\n",
    "\n",
    "# 8. Mostrar los widgets\n",
    "display(vel_slider, rpm_slider, pendiente_slider, carga_slider, marcha_label)\n"
   ]
  }
 ],
 "metadata": {
  "kernelspec": {
   "display_name": "venv",
   "language": "python",
   "name": "python3"
  },
  "language_info": {
   "codemirror_mode": {
    "name": "ipython",
    "version": 3
   },
   "file_extension": ".py",
   "mimetype": "text/x-python",
   "name": "python",
   "nbconvert_exporter": "python",
   "pygments_lexer": "ipython3",
   "version": "3.10.11"
  }
 },
 "nbformat": 4,
 "nbformat_minor": 2
}
